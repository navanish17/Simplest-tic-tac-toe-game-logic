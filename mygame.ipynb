{
 "cells": [
  {
   "cell_type": "markdown",
   "metadata": {},
   "source": [
    "### 1. Make a board"
   ]
  },
  {
   "cell_type": "code",
   "execution_count": 4,
   "metadata": {},
   "outputs": [],
   "source": [
    "board = [' ' for i in range(0,9)]\n",
    "\n",
    "def make_board(board):\n",
    "    for m in range(0, 9, 3):\n",
    "        print(f'{board[m]}| {board[m+1]}| {board[m+2]}')"
   ]
  },
  {
   "cell_type": "code",
   "execution_count": 5,
   "metadata": {},
   "outputs": [
    {
     "name": "stdout",
     "output_type": "stream",
     "text": [
      " |  |  \n",
      " |  |  \n",
      " |  |  \n"
     ]
    }
   ],
   "source": [
    "make_board(board)"
   ]
  },
  {
   "cell_type": "markdown",
   "metadata": {},
   "source": [
    "### 2. Make logic to check winning"
   ]
  },
  {
   "cell_type": "code",
   "execution_count": 12,
   "metadata": {},
   "outputs": [],
   "source": [
    "def check_winning(board, player):\n",
    "    winning_combination = [[0, 1, 2], [3, 4, 5], [6, 7, 8], #Rows\n",
    "                           [0, 4, 8], [6, 4, 2], #Diagonal\n",
    "                           [0, 3,6], [1, 4, 7], [2,5,8] # Column\n",
    "                           ]\n",
    "    for i in winning_combination:\n",
    "        if all(board[w] == player for w in i):\n",
    "            return True\n",
    "        \n",
    "    return False "
   ]
  },
  {
   "cell_type": "markdown",
   "metadata": {},
   "source": [
    "### 3. Make a logic for tie game"
   ]
  },
  {
   "cell_type": "code",
   "execution_count": 13,
   "metadata": {},
   "outputs": [],
   "source": [
    "def check_tie(board):\n",
    "    return \" \" not in board"
   ]
  },
  {
   "cell_type": "markdown",
   "metadata": {},
   "source": [
    "### 4. Making a whole game logic"
   ]
  },
  {
   "cell_type": "code",
   "execution_count": 16,
   "metadata": {},
   "outputs": [
    {
     "name": "stdout",
     "output_type": "stream",
     "text": [
      " |  |  \n",
      " |  |  \n",
      " |  |  \n",
      " | X|  \n",
      " |  |  \n",
      " |  |  \n",
      " | X| O\n",
      " |  |  \n",
      " |  |  \n",
      " | X| O\n",
      "X|  |  \n",
      " |  |  \n",
      " | X| O\n",
      "X| O|  \n",
      " |  |  \n",
      " | X| O\n",
      "X| O| X\n",
      " |  |  \n",
      " | X| O\n",
      "X| O| X\n",
      "O|  |  \n",
      "player O has won the game\n"
     ]
    }
   ],
   "source": [
    "def play_game():\n",
    "    board = [' ' for i in range(9)]\n",
    "    players = ['X', 'O']\n",
    "    current_players = 0\n",
    "\n",
    "    while True:\n",
    "        move = int(input(f'Player {players[current_players]} put your spot from 0-8'))\n",
    "        make_board(board)\n",
    "\n",
    "        if board[move] == ' ':\n",
    "            board[move] = players[current_players]\n",
    "\n",
    "        else:\n",
    "            print('Spot has been already filled')\n",
    "            continue\n",
    "\n",
    "        if check_winning(board, players[current_players]):\n",
    "            make_board(board)\n",
    "            print(f'player {players[current_players]} has won the game')\n",
    "            break\n",
    "\n",
    "        if check_tie(board):\n",
    "            make_board(board)\n",
    "            print('This game has tie')\n",
    "\n",
    "        current_players = (current_players+1)%2\n",
    "\n",
    "play_game()    \n",
    "\n"
   ]
  },
  {
   "cell_type": "code",
   "execution_count": null,
   "metadata": {},
   "outputs": [],
   "source": []
  }
 ],
 "metadata": {
  "kernelspec": {
   "display_name": "imgscraper",
   "language": "python",
   "name": "python3"
  },
  "language_info": {
   "codemirror_mode": {
    "name": "ipython",
    "version": 3
   },
   "file_extension": ".py",
   "mimetype": "text/x-python",
   "name": "python",
   "nbconvert_exporter": "python",
   "pygments_lexer": "ipython3",
   "version": "3.8.0"
  }
 },
 "nbformat": 4,
 "nbformat_minor": 2
}
